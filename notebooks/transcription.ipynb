{
 "cells": [
  {
   "cell_type": "code",
   "execution_count": 1,
   "id": "bc48dc6d",
   "metadata": {},
   "outputs": [],
   "source": [
    "from epitran import Epitran\n",
    "from transcriber import Transcriber"
   ]
  },
  {
   "cell_type": "code",
   "execution_count": 2,
   "id": "2426d37a",
   "metadata": {},
   "outputs": [],
   "source": [
    "polish_text = \"Idę się myć, co ty na to?\""
   ]
  },
  {
   "cell_type": "code",
   "execution_count": 3,
   "id": "4b8ba220",
   "metadata": {},
   "outputs": [
    {
     "data": {
      "text/plain": [
       "'idɛ̃ ɕɛ̃ mɨt͡ɕ, t͡sɔ tɨ na tɔ?'"
      ]
     },
     "execution_count": 3,
     "metadata": {},
     "output_type": "execute_result"
    }
   ],
   "source": [
    "epitran = Epitran(\"pol-Latn\")\n",
    "ipa = epitran.transliterate(polish_text)\n",
    "ipa"
   ]
  },
  {
   "cell_type": "code",
   "execution_count": 4,
   "id": "d0f9af67",
   "metadata": {},
   "outputs": [
    {
     "data": {
      "text/plain": [
       "'eedem shem mitch, tso ti naa to?'"
      ]
     },
     "execution_count": 4,
     "metadata": {},
     "output_type": "execute_result"
    }
   ],
   "source": [
    "transcriber = Transcriber.from_language_code(\"pol-Latn\")\n",
    "transcriber.transcribe(polish_text)"
   ]
  },
  {
   "cell_type": "code",
   "execution_count": 5,
   "id": "c805ae98",
   "metadata": {},
   "outputs": [
    {
     "data": {
      "text/plain": [
       "'vaat denk yu over meyn stem?'"
      ]
     },
     "execution_count": 5,
     "metadata": {},
     "output_type": "execute_result"
    }
   ],
   "source": [
    "Transcriber.from_language_code(\"nld-Latn\").transcribe(\"Wat denk je over mijn stem?\")"
   ]
  },
  {
   "cell_type": "code",
   "execution_count": 6,
   "id": "a872f50f",
   "metadata": {},
   "outputs": [
    {
     "data": {
      "text/plain": [
       "'vaas denkst doo iber maaeeene steeme?'"
      ]
     },
     "execution_count": 6,
     "metadata": {},
     "output_type": "execute_result"
    }
   ],
   "source": [
    "Transcriber.from_language_code(\"deu-Latn-nar\").transcribe(\"Was denkst du über meine Stimme?\")"
   ]
  }
 ],
 "metadata": {
  "kernelspec": {
   "display_name": "Python 3",
   "language": "python",
   "name": "python3"
  },
  "language_info": {
   "codemirror_mode": {
    "name": "ipython",
    "version": 3
   },
   "file_extension": ".py",
   "mimetype": "text/x-python",
   "name": "python",
   "nbconvert_exporter": "python",
   "pygments_lexer": "ipython3",
   "version": "3.7.8"
  }
 },
 "nbformat": 4,
 "nbformat_minor": 5
}
